{
 "cells": [
  {
   "cell_type": "code",
   "execution_count": 1,
   "metadata": {},
   "outputs": [],
   "source": [
    "#Импортируем необходимые библиотеки\n",
    "\n",
    "import pandas as pd\n",
    "import numpy as np\n",
    "import matplotlib.pyplot as plt\n",
    "import seaborn as sns\n",
    "from pylab import rcParams\n",
    "rcParams['figure.figsize'] = 15, 8\n",
    "%matplotlib inline"
   ]
  },
  {
   "cell_type": "code",
   "execution_count": 92,
   "metadata": {},
   "outputs": [],
   "source": [
    "#Импортируем необходимые данные\n",
    "Tariff_plans_change = pd.read_csv('Tariff_plans_change.csv', parse_dates=['START_DTTM', 'END_DTTM'])\n",
    "Charges = pd.read_csv('Charges.csv', index_col='SUBSCRIBER_ID', parse_dates=['BILL_MONTH'])\n",
    "Suspended = pd.read_csv('Suspended.csv', index_col='SUBSCRIBER_ID', parse_dates=['START_DT', 'END_DT'])"
   ]
  },
  {
   "cell_type": "code",
   "execution_count": 91,
   "metadata": {},
   "outputs": [
    {
     "data": {
      "text/html": [
       "<div>\n",
       "<style scoped>\n",
       "    .dataframe tbody tr th:only-of-type {\n",
       "        vertical-align: middle;\n",
       "    }\n",
       "\n",
       "    .dataframe tbody tr th {\n",
       "        vertical-align: top;\n",
       "    }\n",
       "\n",
       "    .dataframe thead th {\n",
       "        text-align: right;\n",
       "    }\n",
       "</style>\n",
       "<table border=\"1\" class=\"dataframe\">\n",
       "  <thead>\n",
       "    <tr style=\"text-align: right;\">\n",
       "      <th></th>\n",
       "      <th>SUBSCRIBER_ID</th>\n",
       "      <th>TARIFF_PLAN_ID</th>\n",
       "      <th>START_DTTM</th>\n",
       "      <th>END_DTTM</th>\n",
       "    </tr>\n",
       "  </thead>\n",
       "  <tbody>\n",
       "    <tr>\n",
       "      <th>0</th>\n",
       "      <td>1</td>\n",
       "      <td>2</td>\n",
       "      <td>2013-11-22 21:10:08</td>\n",
       "      <td>2017-03-11 14:24:17</td>\n",
       "    </tr>\n",
       "    <tr>\n",
       "      <th>1</th>\n",
       "      <td>1</td>\n",
       "      <td>3</td>\n",
       "      <td>2017-03-11 14:24:18</td>\n",
       "      <td>$null$</td>\n",
       "    </tr>\n",
       "    <tr>\n",
       "      <th>2</th>\n",
       "      <td>2</td>\n",
       "      <td>1</td>\n",
       "      <td>2016-02-05 16:36:34</td>\n",
       "      <td>2017-06-29 12:39:58</td>\n",
       "    </tr>\n",
       "    <tr>\n",
       "      <th>3</th>\n",
       "      <td>2</td>\n",
       "      <td>5</td>\n",
       "      <td>2017-06-29 12:39:59</td>\n",
       "      <td>$null$</td>\n",
       "    </tr>\n",
       "    <tr>\n",
       "      <th>4</th>\n",
       "      <td>3</td>\n",
       "      <td>1</td>\n",
       "      <td>2015-05-06 19:17:46</td>\n",
       "      <td>2017-04-14 12:00:59</td>\n",
       "    </tr>\n",
       "    <tr>\n",
       "      <th>5</th>\n",
       "      <td>3</td>\n",
       "      <td>5</td>\n",
       "      <td>2017-04-14 12:01:00</td>\n",
       "      <td>$null$</td>\n",
       "    </tr>\n",
       "    <tr>\n",
       "      <th>6</th>\n",
       "      <td>4</td>\n",
       "      <td>3</td>\n",
       "      <td>2016-01-27 23:03:51</td>\n",
       "      <td>2017-01-09 19:27:50</td>\n",
       "    </tr>\n",
       "    <tr>\n",
       "      <th>7</th>\n",
       "      <td>4</td>\n",
       "      <td>5</td>\n",
       "      <td>2017-01-09 19:27:51</td>\n",
       "      <td>$null$</td>\n",
       "    </tr>\n",
       "    <tr>\n",
       "      <th>8</th>\n",
       "      <td>5</td>\n",
       "      <td>1</td>\n",
       "      <td>2016-02-06 08:07:15</td>\n",
       "      <td>2017-05-08 12:39:59</td>\n",
       "    </tr>\n",
       "    <tr>\n",
       "      <th>9</th>\n",
       "      <td>5</td>\n",
       "      <td>5</td>\n",
       "      <td>2017-05-08 12:40:00</td>\n",
       "      <td>$null$</td>\n",
       "    </tr>\n",
       "  </tbody>\n",
       "</table>\n",
       "</div>"
      ],
      "text/plain": [
       "   SUBSCRIBER_ID  TARIFF_PLAN_ID          START_DTTM             END_DTTM\n",
       "0              1               2 2013-11-22 21:10:08  2017-03-11 14:24:17\n",
       "1              1               3 2017-03-11 14:24:18               $null$\n",
       "2              2               1 2016-02-05 16:36:34  2017-06-29 12:39:58\n",
       "3              2               5 2017-06-29 12:39:59               $null$\n",
       "4              3               1 2015-05-06 19:17:46  2017-04-14 12:00:59\n",
       "5              3               5 2017-04-14 12:01:00               $null$\n",
       "6              4               3 2016-01-27 23:03:51  2017-01-09 19:27:50\n",
       "7              4               5 2017-01-09 19:27:51               $null$\n",
       "8              5               1 2016-02-06 08:07:15  2017-05-08 12:39:59\n",
       "9              5               5 2017-05-08 12:40:00               $null$"
      ]
     },
     "execution_count": 91,
     "metadata": {},
     "output_type": "execute_result"
    }
   ],
   "source": [
    "Tariff_plans_change.head(10)"
   ]
  },
  {
   "cell_type": "markdown",
   "metadata": {},
   "source": [
    "## Предподготовка и анализ направления смены тарифных планов"
   ]
  },
  {
   "cell_type": "code",
   "execution_count": 52,
   "metadata": {},
   "outputs": [],
   "source": [
    "df1 = Tariff_plans_change.groupby(['SUBSCRIBER_ID']).aggregate({'START_DTTM':'min', 'TARIFF_PLAN_ID':'first'}) \\\n",
    "                            .rename(columns={'START_DTTM':'START_DTTM_1', 'TARIFF_PLAN_ID':'TARIFF_PLAN_ID_1'})"
   ]
  },
  {
   "cell_type": "code",
   "execution_count": 53,
   "metadata": {},
   "outputs": [],
   "source": [
    "df2 = Tariff_plans_change.groupby(['SUBSCRIBER_ID']).aggregate({'START_DTTM':'max', 'TARIFF_PLAN_ID':'last'}) \\\n",
    "                            .rename(columns={'START_DTTM':'START_DTTM_2', 'TARIFF_PLAN_ID':'TARIFF_PLAN_ID_2'})"
   ]
  },
  {
   "cell_type": "code",
   "execution_count": 62,
   "metadata": {},
   "outputs": [],
   "source": [
    "Tariff_plans_change_transform = df1.join(df2, on='SUBSCRIBER_ID')"
   ]
  },
  {
   "cell_type": "code",
   "execution_count": 63,
   "metadata": {},
   "outputs": [
    {
     "data": {
      "text/html": [
       "<div>\n",
       "<style scoped>\n",
       "    .dataframe tbody tr th:only-of-type {\n",
       "        vertical-align: middle;\n",
       "    }\n",
       "\n",
       "    .dataframe tbody tr th {\n",
       "        vertical-align: top;\n",
       "    }\n",
       "\n",
       "    .dataframe thead th {\n",
       "        text-align: right;\n",
       "    }\n",
       "</style>\n",
       "<table border=\"1\" class=\"dataframe\">\n",
       "  <thead>\n",
       "    <tr style=\"text-align: right;\">\n",
       "      <th></th>\n",
       "      <th>START_DTTM_1</th>\n",
       "      <th>TARIFF_PLAN_ID_1</th>\n",
       "      <th>START_DTTM_2</th>\n",
       "      <th>TARIFF_PLAN_ID_2</th>\n",
       "    </tr>\n",
       "    <tr>\n",
       "      <th>SUBSCRIBER_ID</th>\n",
       "      <th></th>\n",
       "      <th></th>\n",
       "      <th></th>\n",
       "      <th></th>\n",
       "    </tr>\n",
       "  </thead>\n",
       "  <tbody>\n",
       "    <tr>\n",
       "      <th>1</th>\n",
       "      <td>2013-11-22 21:10:08</td>\n",
       "      <td>2</td>\n",
       "      <td>2017-03-11 14:24:18</td>\n",
       "      <td>3</td>\n",
       "    </tr>\n",
       "    <tr>\n",
       "      <th>2</th>\n",
       "      <td>2016-02-05 16:36:34</td>\n",
       "      <td>1</td>\n",
       "      <td>2017-06-29 12:39:59</td>\n",
       "      <td>5</td>\n",
       "    </tr>\n",
       "    <tr>\n",
       "      <th>3</th>\n",
       "      <td>2015-05-06 19:17:46</td>\n",
       "      <td>1</td>\n",
       "      <td>2017-04-14 12:01:00</td>\n",
       "      <td>5</td>\n",
       "    </tr>\n",
       "    <tr>\n",
       "      <th>4</th>\n",
       "      <td>2016-01-27 23:03:51</td>\n",
       "      <td>3</td>\n",
       "      <td>2017-01-09 19:27:51</td>\n",
       "      <td>5</td>\n",
       "    </tr>\n",
       "    <tr>\n",
       "      <th>5</th>\n",
       "      <td>2016-02-06 08:07:15</td>\n",
       "      <td>1</td>\n",
       "      <td>2017-05-08 12:40:00</td>\n",
       "      <td>5</td>\n",
       "    </tr>\n",
       "  </tbody>\n",
       "</table>\n",
       "</div>"
      ],
      "text/plain": [
       "                      START_DTTM_1  TARIFF_PLAN_ID_1         START_DTTM_2  \\\n",
       "SUBSCRIBER_ID                                                               \n",
       "1              2013-11-22 21:10:08                 2  2017-03-11 14:24:18   \n",
       "2              2016-02-05 16:36:34                 1  2017-06-29 12:39:59   \n",
       "3              2015-05-06 19:17:46                 1  2017-04-14 12:01:00   \n",
       "4              2016-01-27 23:03:51                 3  2017-01-09 19:27:51   \n",
       "5              2016-02-06 08:07:15                 1  2017-05-08 12:40:00   \n",
       "\n",
       "               TARIFF_PLAN_ID_2  \n",
       "SUBSCRIBER_ID                    \n",
       "1                             3  \n",
       "2                             5  \n",
       "3                             5  \n",
       "4                             5  \n",
       "5                             5  "
      ]
     },
     "execution_count": 63,
     "metadata": {},
     "output_type": "execute_result"
    }
   ],
   "source": [
    "Tariff_plans_change_transform.head()"
   ]
  },
  {
   "cell_type": "code",
   "execution_count": 75,
   "metadata": {},
   "outputs": [
    {
     "data": {
      "text/plain": [
       "array([[<matplotlib.axes._subplots.AxesSubplot object at 0x000001EC2FA279C8>,\n",
       "        <matplotlib.axes._subplots.AxesSubplot object at 0x000001EC388BE708>]],\n",
       "      dtype=object)"
      ]
     },
     "execution_count": 75,
     "metadata": {},
     "output_type": "execute_result"
    },
    {
     "data": {
      "image/png": "[encoded data removed]",
      "text/plain": [
       "<Figure size 720x432 with 2 Axes>"
      ]
     },
     "metadata": {
      "needs_background": "light"
     },
     "output_type": "display_data"
    }
   ],
   "source": [
    "#Построение гистограмм смены тарифных планов\n",
    "rcParams['figure.figsize'] = 10, 6\n",
    "Tariff_plans_change_transform[['TARIFF_PLAN_ID_1', 'TARIFF_PLAN_ID_2']].hist()"
   ]
  },
  {
   "cell_type": "markdown",
   "metadata": {},
   "source": [
    "Наиболее часто уходили с тарифных планов №1 и 3. Наиболее часто переходили на тарифный план №5"
   ]
  },
  {
   "cell_type": "code",
   "execution_count": null,
   "metadata": {},
   "outputs": [],
   "source": []
  },
  {
   "cell_type": "markdown",
   "metadata": {},
   "source": []
  },
  {
   "cell_type": "code",
   "execution_count": null,
   "metadata": {},
   "outputs": [],
   "source": []
  },
  {
   "cell_type": "code",
   "execution_count": null,
   "metadata": {},
   "outputs": [],
   "source": []
  }
 ],
 "metadata": {
  "kernelspec": {
   "display_name": "Python 3",
   "language": "python",
   "name": "python3"
  },
  "language_info": {
   "codemirror_mode": {
    "name": "ipython",
    "version": 3
   },
   "file_extension": ".py",
   "mimetype": "text/x-python",
   "name": "python",
   "nbconvert_exporter": "python",
   "pygments_lexer": "ipython3",
   "version": "3.7.6"
  }
 },
 "nbformat": 4,
 "nbformat_minor": 4
}
